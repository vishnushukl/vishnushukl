{
 "cells": [
  {
   "cell_type": "markdown",
   "id": "b0414019",
   "metadata": {},
   "source": [
    "## All necessary libraries"
   ]
  },
  {
   "cell_type": "markdown",
   "id": "b201aec3",
   "metadata": {},
   "source": [
    "- **os :**  for creating and removing a directory (folder), fetching its contents, changing and identifying the current directory, etc.\n",
    "- **re :** Regular Expression for pattern matching, it helps during parsing and extracting desirable pattern.\n",
    "- **boto :** Amazon Web Services (AWS) SDK for Python.\n",
    "- **boto3 :** it makes easy to integrate your Python application, library, or script with AWS services including Amazon S3.\n",
    "- **request :** allows you to send HTTP requests using Python.\n",
    "- **pandas :** responsible for data frame also It provides ready to use high-performance data structures and data analysis tools.\n",
    "- **io/StringIO :** provides Python's main facilities for dealing with various types of I/O./ the StringIO module is an in-memory file-like object.\n",
    "- **xml.etree.ElementTree :** allows you to parse and navigate an XML document.\n",
    "- **BeautifulSoup :** used for web scraping purposes to pull the data out of HTML and XML files."
   ]
  },
  {
   "cell_type": "code",
   "execution_count": 5,
   "id": "610968b6",
   "metadata": {},
   "outputs": [],
   "source": [
    "import os\n",
    "import re\n",
    "import boto\n",
    "import boto3\n",
    "import requests\n",
    "import pandas as pd\n",
    "from io import StringIO\n",
    "import boto.s3.connection\n",
    "import xml.etree.ElementTree as ET\n",
    "from bs4 import BeautifulSoup as bs"
   ]
  },
  {
   "cell_type": "markdown",
   "id": "8d0a4679",
   "metadata": {},
   "source": [
    "# Step - 1\n",
    "## Download the xml from URL"
   ]
  },
  {
   "cell_type": "code",
   "execution_count": 2,
   "id": "aad99cfa",
   "metadata": {},
   "outputs": [],
   "source": [
    "target_url = 'https://registers.esma.europa.eu/solr/esma_registers_firds_files/select?q=*&fq=publication_date:%5B2021-01-17T00:00:00Z+TO+2021-01-19T23:59:59Z%5D&wt=xml&indent=true&start=0&rows=100'"
   ]
  },
  {
   "cell_type": "code",
   "execution_count": 4,
   "id": "0cafdfb9",
   "metadata": {},
   "outputs": [],
   "source": [
    "xml_url = requests.get(target_url)"
   ]
  },
  {
   "cell_type": "code",
   "execution_count": 5,
   "id": "8dac320e",
   "metadata": {},
   "outputs": [],
   "source": [
    "#xml.content"
   ]
  },
  {
   "cell_type": "markdown",
   "id": "4141a98d",
   "metadata": {},
   "source": [
    "# Step -2\n",
    "## From the xml, parsing through to the download link whose file_type is DLTINS and download the zip"
   ]
  },
  {
   "cell_type": "code",
   "execution_count": 6,
   "id": "9f1e4251",
   "metadata": {},
   "outputs": [
    {
     "name": "stdout",
     "output_type": "stream",
     "text": [
      "http://firds.esma.europa.eu/firds/DLTINS_20210117_01of01.zip\n",
      "http://firds.esma.europa.eu/firds/DLTINS_20210119_01of02.zip\n",
      "http://firds.esma.europa.eu/firds/DLTINS_20210119_02of02.zip\n",
      "http://firds.esma.europa.eu/firds/DLTINS_20210118_01of01.zip\n"
     ]
    }
   ],
   "source": [
    "# extracting links from UIRL\n",
    "url_containt = bs(xml_url.content, 'lxml')\n",
    "for line in url_containt:\n",
    "    regex = r'(https?://\\S+)'\n",
    "    output = re.findall(regex, str(line))\n",
    "    for url in output:\n",
    "        url = url.split('<')[0]\n",
    "        print(url)"
   ]
  },
  {
   "cell_type": "markdown",
   "id": "1149d05a",
   "metadata": {},
   "source": [
    "# Step - 3\n",
    "## Extract the xml from the zip."
   ]
  },
  {
   "cell_type": "code",
   "execution_count": 3,
   "id": "7ef0bf1e",
   "metadata": {},
   "outputs": [],
   "source": [
    "import zipfile"
   ]
  },
  {
   "cell_type": "code",
   "execution_count": 4,
   "id": "dbf468cd",
   "metadata": {},
   "outputs": [],
   "source": [
    "with zipfile.ZipFile('C:/Users/Asus/Desktop/DLTINS_20210117_01of01.zip', 'r') as zip_ref:\n",
    "    zip_ref.extractall('C:/Users/Asus/Downloads/')"
   ]
  },
  {
   "cell_type": "code",
   "execution_count": 5,
   "id": "de8ce123",
   "metadata": {},
   "outputs": [
    {
     "data": {
      "text/plain": [
       "<zipfile.ZipFile [closed]>"
      ]
     },
     "execution_count": 5,
     "metadata": {},
     "output_type": "execute_result"
    }
   ],
   "source": [
    "zip_ref"
   ]
  },
  {
   "cell_type": "code",
   "execution_count": 11,
   "id": "434cfd3b",
   "metadata": {},
   "outputs": [],
   "source": [
    "# with open('C:/Users/Asus/Desktop/DLTINS_20210117_01of01.xml', 'r', encoding='utf8') as f:\n",
    "#     data = f.read()"
   ]
  },
  {
   "cell_type": "code",
   "execution_count": 13,
   "id": "0be10a3c",
   "metadata": {},
   "outputs": [
    {
     "name": "stdout",
     "output_type": "stream",
     "text": [
      "['{urn:iso:std:iso:20022:tech:xsd:auth.036.001.02}Val', '{urn:iso:std:iso:20022:tech:xsd:auth.036.001.02}Prcs', '{urn:iso:std:iso:20022:tech:xsd:auth.036.001.02}FinInstrmRptgRefDataDltaRpt', '{urn:iso:std:iso:20022:tech:xsd:auth.036.001.02}Pdg', '{urn:iso:std:iso:20022:tech:xsd:auth.036.001.02}IntrstRate', '{urn:iso:std:iso:20022:tech:xsd:auth.036.001.02}Pulp', '{urn:iso:std:iso:20022:tech:xsd:auth.036.001.02}Nrgy', '{urn:iso:std:iso:20022:tech:xsd:auth.036.001.02}FnlPricTp', '{urn:iso:std:iso:20022:tech:xsd:auth.036.001.02}Fltg', '{urn:iso:std:iso:20022:tech:xsd:auth.036.001.02}NewRcrd', '{urn:iso:std:iso:20022:tech:xsd:auth.036.001.02}FrstTradDt', '{urn:iso:std:iso:20022:tech:xsd:auth.036.001.02}Id', '{urn:iso:std:iso:20022:tech:xsd:head.003.001.01}Hdr', '{urn:iso:std:iso:20022:tech:xsd:auth.036.001.02}BasePdct', '{urn:iso:std:iso:20022:tech:xsd:auth.036.001.02}MntryVal', '{urn:iso:std:iso:20022:tech:xsd:auth.036.001.02}OptnExrcStyle', '{urn:iso:std:iso:20022:tech:xsd:auth.036.001.02}Intrst', '{urn:iso:std:iso:20022:tech:xsd:auth.036.001.02}FxTp', '{urn:iso:std:iso:20022:tech:xsd:auth.036.001.02}DerivInstrmAttrbts', '{urn:iso:std:iso:20022:tech:xsd:auth.036.001.02}AsstClssSpcfcAttrbts', '{urn:iso:std:iso:20022:tech:xsd:head.001.001.01}OrgId', '{urn:iso:std:iso:20022:tech:xsd:auth.036.001.02}PblctnPrd', '{urn:iso:std:iso:20022:tech:xsd:auth.036.001.02}GrnOilSeed', '{urn:iso:std:iso:20022:tech:xsd:auth.036.001.02}OthrNtnlCcy', '{urn:iso:std:iso:20022:tech:xsd:auth.036.001.02}TxTp', '{urn:iso:std:iso:20022:tech:xsd:head.001.001.01}CreDt', '{urn:iso:std:iso:20022:tech:xsd:auth.036.001.02}Emssns', '{urn:iso:std:iso:20022:tech:xsd:auth.036.001.02}Sngl', '{urn:iso:std:iso:20022:tech:xsd:auth.036.001.02}NtrlGas', '{urn:iso:std:iso:20022:tech:xsd:auth.036.001.02}Term', '{urn:iso:std:iso:20022:tech:xsd:auth.036.001.02}Indx', '{urn:iso:std:iso:20022:tech:xsd:auth.036.001.02}LEI', '{urn:iso:std:iso:20022:tech:xsd:auth.036.001.02}Ccy', '{urn:iso:std:iso:20022:tech:xsd:auth.036.001.02}ShrtNm', '{urn:iso:std:iso:20022:tech:xsd:auth.036.001.02}RptgNtty', '{urn:iso:std:iso:20022:tech:xsd:auth.036.001.02}ISIN', '{urn:iso:std:iso:20022:tech:xsd:auth.036.001.02}TtlIssdNmnlAmt', '{urn:iso:std:iso:20022:tech:xsd:auth.036.001.02}DebtInstrmAttrbts', '{urn:iso:std:iso:20022:tech:xsd:auth.036.001.02}NtnlCcy', '{urn:iso:std:iso:20022:tech:xsd:auth.036.001.02}BsisPts', '{urn:iso:std:iso:20022:tech:xsd:auth.036.001.02}RptHdr', '{urn:iso:std:iso:20022:tech:xsd:auth.036.001.02}ModfdRcrd', '{urn:iso:std:iso:20022:tech:xsd:auth.036.001.02}Pctg', '{urn:iso:std:iso:20022:tech:xsd:auth.036.001.02}ToDt', '{urn:iso:std:iso:20022:tech:xsd:auth.036.001.02}MultiCmmdtyExtc', '{urn:iso:std:iso:20022:tech:xsd:auth.036.001.02}TermntnDt', '{urn:iso:std:iso:20022:tech:xsd:auth.036.001.02}FX', '{urn:iso:std:iso:20022:tech:xsd:auth.036.001.02}UndrlygInstrm', '{urn:iso:std:iso:20022:tech:xsd:auth.036.001.02}Cmmdty', '{urn:iso:std:iso:20022:tech:xsd:auth.036.001.02}RlvntTradgVn', '{urn:iso:std:iso:20022:tech:xsd:auth.036.001.02}Document', '{urn:iso:std:iso:20022:tech:xsd:auth.036.001.02}RptgPrd', '{urn:iso:std:iso:20022:tech:xsd:auth.036.001.02}AddtlSubPdct', '{urn:iso:std:iso:20022:tech:xsd:head.001.001.01}AppHdr', '{urn:iso:std:iso:20022:tech:xsd:auth.036.001.02}Dt', '{urn:iso:std:iso:20022:tech:xsd:head.001.001.01}MsgDefIdr', '{urn:iso:std:iso:20022:tech:xsd:head.003.001.01}Pyld', '{urn:iso:std:iso:20022:tech:xsd:head.001.001.01}BizMsgIdr', '{urn:iso:std:iso:20022:tech:xsd:auth.036.001.02}Pdct', '{urn:iso:std:iso:20022:tech:xsd:auth.036.001.02}FinInstrm', '{urn:iso:std:iso:20022:tech:xsd:auth.036.001.02}Amt', '{urn:iso:std:iso:20022:tech:xsd:auth.036.001.02}Othr', '{urn:iso:std:iso:20022:tech:xsd:head.001.001.01}To', '{urn:iso:std:iso:20022:tech:xsd:auth.036.001.02}RefRate', '{urn:iso:std:iso:20022:tech:xsd:auth.036.001.02}SubPdct', '{urn:iso:std:iso:20022:tech:xsd:auth.036.001.02}Sfd', '{urn:iso:std:iso:20022:tech:xsd:auth.036.001.02}DlvryTp', '{urn:iso:std:iso:20022:tech:xsd:auth.036.001.02}TechAttrbts', '{urn:iso:std:iso:20022:tech:xsd:auth.036.001.02}Ppr', '{urn:iso:std:iso:20022:tech:xsd:auth.036.001.02}Grn', '{urn:iso:std:iso:20022:tech:xsd:head.001.001.01}Othr', '{urn:iso:std:iso:20022:tech:xsd:auth.036.001.02}NmnlValPerUnit', '{urn:iso:std:iso:20022:tech:xsd:auth.036.001.02}FrDtToDt', '{urn:iso:std:iso:20022:tech:xsd:auth.036.001.02}TermntdRcrd', '{urn:iso:std:iso:20022:tech:xsd:auth.036.001.02}Unit', '{urn:iso:std:iso:20022:tech:xsd:auth.036.001.02}ReqForAdmssnDt', '{urn:iso:std:iso:20022:tech:xsd:auth.036.001.02}Pric', '{urn:iso:std:iso:20022:tech:xsd:auth.036.001.02}DebtSnrty', '{urn:iso:std:iso:20022:tech:xsd:auth.036.001.02}Nm', '{urn:iso:std:iso:20022:tech:xsd:auth.036.001.02}Issr', '{urn:iso:std:iso:20022:tech:xsd:auth.036.001.02}StrkPric', '{urn:iso:std:iso:20022:tech:xsd:auth.036.001.02}XpryDt', '{urn:iso:std:iso:20022:tech:xsd:auth.036.001.02}Fxd', '{urn:iso:std:iso:20022:tech:xsd:auth.036.001.02}Sgn', '{urn:iso:std:iso:20022:tech:xsd:auth.036.001.02}BsisPtSprd', '{urn:iso:std:iso:20022:tech:xsd:auth.036.001.02}FinInstrmGnlAttrbts', '{urn:iso:std:iso:20022:tech:xsd:auth.036.001.02}PricMltplr', '{urn:iso:std:iso:20022:tech:xsd:auth.036.001.02}Metl', '{urn:iso:std:iso:20022:tech:xsd:auth.036.001.02}FullNm', '{urn:iso:std:iso:20022:tech:xsd:auth.036.001.02}AdmssnApprvlDtByIssr', '{urn:iso:std:iso:20022:tech:xsd:auth.036.001.02}IssrReq', '{urn:iso:std:iso:20022:tech:xsd:head.001.001.01}Id', '{urn:iso:std:iso:20022:tech:xsd:auth.036.001.02}FrDt', '{urn:iso:std:iso:20022:tech:xsd:auth.036.001.02}NoPric', '{urn:iso:std:iso:20022:tech:xsd:auth.036.001.02}TradgVnRltdAttrbts', '{urn:iso:std:iso:20022:tech:xsd:auth.036.001.02}CmmdtyDerivInd', '{urn:iso:std:iso:20022:tech:xsd:head.001.001.01}Fr', '{urn:iso:std:iso:20022:tech:xsd:auth.036.001.02}OptnTp', '{urn:iso:std:iso:20022:tech:xsd:auth.036.001.02}RlvntCmptntAuthrty', '{urn:iso:std:iso:20022:tech:xsd:auth.036.001.02}Envttl', '{urn:iso:std:iso:20022:tech:xsd:auth.036.001.02}Agrcltrl', '{urn:iso:std:iso:20022:tech:xsd:auth.036.001.02}Elctrcty', '{urn:iso:std:iso:20022:tech:xsd:auth.036.001.02}MtrtyDt', '{urn:iso:std:iso:20022:tech:xsd:auth.036.001.02}Bskt', '{urn:iso:std:iso:20022:tech:xsd:auth.036.001.02}Oil', '{urn:iso:std:iso:20022:tech:xsd:head.003.001.01}BizData', '{urn:iso:std:iso:20022:tech:xsd:auth.036.001.02}NtlCmptntAuthrty', '{urn:iso:std:iso:20022:tech:xsd:auth.036.001.02}ClssfctnTp']\n"
     ]
    }
   ],
   "source": [
    "# load and parse the file\n",
    "xmlTree = ET.parse('C:/Users/Asus/Desktop/DLTINS_20210117_01of01.xml')\n",
    "\n",
    "elemList = []\n",
    "\n",
    "for elem in xmlTree.iter():\n",
    "    elemList.append(elem.tag)\n",
    "\n",
    "# now I remove duplicities - by convertion to set and back to list\n",
    "elemList = list(set(elemList))\n",
    "\n",
    "# Just printing out the result\n",
    "print(elemList)"
   ]
  },
  {
   "cell_type": "code",
   "execution_count": 9,
   "id": "272b866b",
   "metadata": {},
   "outputs": [],
   "source": [
    "with open(\"C:/Users/Asus/Desktop/DLTINS_20210117_01of01.xml\", \"r\", encoding=\"utf-8\") as file:\n",
    "    # Read each line in the file, readlines() returns a list of lines\n",
    "    content = file.read()\n",
    "    # Combine the lines in the list into a string\n",
    "    \n",
    "    #content = \"\".join(content)\n",
    "bs_content = bs(content, \"xml\")"
   ]
  },
  {
   "cell_type": "code",
   "execution_count": 11,
   "id": "eabe315e",
   "metadata": {},
   "outputs": [],
   "source": [
    "result = bs_content.find_all(\"FinInstrm\")"
   ]
  },
  {
   "cell_type": "markdown",
   "id": "a65f80e5",
   "metadata": {},
   "source": [
    "# Step - 4\n",
    "## Convert the contents of the xml into a CSV with the following header:\n",
    "- FinInstrmGnlAttrbts.Id\n",
    "- FinInstrmGnlAttrbts.FullNm\n",
    "- FinInstrmGnlAttrbts.ClssfctnTp\n",
    "- FinInstrmGnlAttrbts.CmmdtyDerivInd\n",
    "- FinInstrmGnlAttrbts.NtnlCcy\n",
    "- Issr"
   ]
  },
  {
   "cell_type": "code",
   "execution_count": 10,
   "id": "6378d9c3",
   "metadata": {},
   "outputs": [],
   "source": [
    "cols = ['FinInstrmGnlAttrbts.Id', 'FinInstrmGnlAttrbts.FullNm',\n",
    "        'FinInstrmGnlAttrbts.ClssfctnTp', 'FinInstrmGnlAttrbts.CmmdtyDerivInd', \n",
    "       'FinInstrmGnlAttrbts.NtnlCcy', 'Issr']\n",
    "rows = []"
   ]
  },
  {
   "cell_type": "code",
   "execution_count": 12,
   "id": "c09bb80e",
   "metadata": {},
   "outputs": [],
   "source": [
    "for data in result:\n",
    "    FinInstrmGnlAttrbts = data.find('FinInstrmGnlAttrbts')\n",
    "    Id = FinInstrmGnlAttrbts.find('Id').text\n",
    "    full_name = FinInstrmGnlAttrbts.find('FullNm').text\n",
    "    ClssfctnTp = FinInstrmGnlAttrbts.find('ClssfctnTp').text\n",
    "    CmmdtyDerivInd = FinInstrmGnlAttrbts.find('CmmdtyDerivInd').text\n",
    "    NtnlCcy = FinInstrmGnlAttrbts.find('NtnlCcy').text\n",
    "    Issr = data.find('Issr').text\n",
    "    rows.append({'FinInstrmGnlAttrbts.Id': Id,\n",
    "                'FinInstrmGnlAttrbts.FullNm': full_name,\n",
    "                'FinInstrmGnlAttrbts.ClssfctnTp': ClssfctnTp,\n",
    "                'FinInstrmGnlAttrbts.CmmdtyDerivInd': CmmdtyDerivInd,\n",
    "                'FinInstrmGnlAttrbts.NtnlCcy': NtnlCcy,\n",
    "                'Issr': Issr})"
   ]
  },
  {
   "cell_type": "code",
   "execution_count": 14,
   "id": "3d80410b",
   "metadata": {},
   "outputs": [],
   "source": [
    "df = pd.DataFrame(rows, columns=cols)"
   ]
  },
  {
   "cell_type": "code",
   "execution_count": 16,
   "id": "75bf76a2",
   "metadata": {},
   "outputs": [
    {
     "data": {
      "text/html": [
       "<div>\n",
       "<style scoped>\n",
       "    .dataframe tbody tr th:only-of-type {\n",
       "        vertical-align: middle;\n",
       "    }\n",
       "\n",
       "    .dataframe tbody tr th {\n",
       "        vertical-align: top;\n",
       "    }\n",
       "\n",
       "    .dataframe thead th {\n",
       "        text-align: right;\n",
       "    }\n",
       "</style>\n",
       "<table border=\"1\" class=\"dataframe\">\n",
       "  <thead>\n",
       "    <tr style=\"text-align: right;\">\n",
       "      <th></th>\n",
       "      <th>FinInstrmGnlAttrbts.Id</th>\n",
       "      <th>FinInstrmGnlAttrbts.FullNm</th>\n",
       "      <th>FinInstrmGnlAttrbts.ClssfctnTp</th>\n",
       "      <th>FinInstrmGnlAttrbts.CmmdtyDerivInd</th>\n",
       "      <th>FinInstrmGnlAttrbts.NtnlCcy</th>\n",
       "      <th>Issr</th>\n",
       "    </tr>\n",
       "  </thead>\n",
       "  <tbody>\n",
       "    <tr>\n",
       "      <th>0</th>\n",
       "      <td>DE000A1R07V3</td>\n",
       "      <td>Kreditanst.f.Wiederaufbau     Anl.v.2014 (2021)</td>\n",
       "      <td>DBFTFB</td>\n",
       "      <td>false</td>\n",
       "      <td>EUR</td>\n",
       "      <td>549300GDPG70E3MBBU98</td>\n",
       "    </tr>\n",
       "    <tr>\n",
       "      <th>1</th>\n",
       "      <td>DE000A1R07V3</td>\n",
       "      <td>KFW 1 5/8 01/15/21</td>\n",
       "      <td>DBFTFB</td>\n",
       "      <td>false</td>\n",
       "      <td>EUR</td>\n",
       "      <td>549300GDPG70E3MBBU98</td>\n",
       "    </tr>\n",
       "    <tr>\n",
       "      <th>2</th>\n",
       "      <td>DE000A1R07V3</td>\n",
       "      <td>Kreditanst.f.Wiederaufbau Anl.v.2014 (2021)</td>\n",
       "      <td>DBFTFB</td>\n",
       "      <td>false</td>\n",
       "      <td>EUR</td>\n",
       "      <td>549300GDPG70E3MBBU98</td>\n",
       "    </tr>\n",
       "    <tr>\n",
       "      <th>3</th>\n",
       "      <td>DE000A1R07V3</td>\n",
       "      <td>Kreditanst.f.Wiederaufbau Anl.v.2014 (2021)</td>\n",
       "      <td>DBFTFB</td>\n",
       "      <td>false</td>\n",
       "      <td>EUR</td>\n",
       "      <td>549300GDPG70E3MBBU98</td>\n",
       "    </tr>\n",
       "    <tr>\n",
       "      <th>4</th>\n",
       "      <td>DE000A1X3J56</td>\n",
       "      <td>IKB Deutsche Industriebank AG Stufenz.MTN-IHS ...</td>\n",
       "      <td>DTVUFB</td>\n",
       "      <td>false</td>\n",
       "      <td>EUR</td>\n",
       "      <td>PWEFG14QWWESISQ84C69</td>\n",
       "    </tr>\n",
       "  </tbody>\n",
       "</table>\n",
       "</div>"
      ],
      "text/plain": [
       "  FinInstrmGnlAttrbts.Id                         FinInstrmGnlAttrbts.FullNm  \\\n",
       "0           DE000A1R07V3    Kreditanst.f.Wiederaufbau     Anl.v.2014 (2021)   \n",
       "1           DE000A1R07V3                                 KFW 1 5/8 01/15/21   \n",
       "2           DE000A1R07V3        Kreditanst.f.Wiederaufbau Anl.v.2014 (2021)   \n",
       "3           DE000A1R07V3        Kreditanst.f.Wiederaufbau Anl.v.2014 (2021)   \n",
       "4           DE000A1X3J56  IKB Deutsche Industriebank AG Stufenz.MTN-IHS ...   \n",
       "\n",
       "  FinInstrmGnlAttrbts.ClssfctnTp FinInstrmGnlAttrbts.CmmdtyDerivInd  \\\n",
       "0                         DBFTFB                              false   \n",
       "1                         DBFTFB                              false   \n",
       "2                         DBFTFB                              false   \n",
       "3                         DBFTFB                              false   \n",
       "4                         DTVUFB                              false   \n",
       "\n",
       "  FinInstrmGnlAttrbts.NtnlCcy                  Issr  \n",
       "0                         EUR  549300GDPG70E3MBBU98  \n",
       "1                         EUR  549300GDPG70E3MBBU98  \n",
       "2                         EUR  549300GDPG70E3MBBU98  \n",
       "3                         EUR  549300GDPG70E3MBBU98  \n",
       "4                         EUR  PWEFG14QWWESISQ84C69  "
      ]
     },
     "execution_count": 16,
     "metadata": {},
     "output_type": "execute_result"
    }
   ],
   "source": [
    "df.head()"
   ]
  },
  {
   "cell_type": "code",
   "execution_count": 19,
   "id": "411e0fb7",
   "metadata": {},
   "outputs": [],
   "source": [
    "df.to_csv('xml_extract.csv')"
   ]
  },
  {
   "cell_type": "code",
   "execution_count": 18,
   "id": "8f5f4659",
   "metadata": {},
   "outputs": [
    {
     "data": {
      "text/plain": [
       "'C:\\\\Users\\\\Asus\\\\Desktop\\\\B.tech\\\\upGrad\\\\python with AIML\\\\NLP'"
      ]
     },
     "execution_count": 18,
     "metadata": {},
     "output_type": "execute_result"
    }
   ],
   "source": [
    "os.getcwd()"
   ]
  },
  {
   "cell_type": "markdown",
   "id": "2d8d422a",
   "metadata": {},
   "source": [
    "# Step - 5\n",
    "## Process of storing the csv from step 4) in an AWS S3 bucket"
   ]
  },
  {
   "cell_type": "markdown",
   "id": "1bfd5780",
   "metadata": {},
   "source": [
    "- Due to some technical issue with my aws account i was not able to acess so that here I am giving the path of process"
   ]
  },
  {
   "cell_type": "code",
   "execution_count": 2,
   "id": "88b8a080",
   "metadata": {},
   "outputs": [],
   "source": [
    "access_key = \"\"\n",
    "secret_key = \"\""
   ]
  },
  {
   "cell_type": "code",
   "execution_count": 15,
   "id": "7868caa0",
   "metadata": {},
   "outputs": [
    {
     "name": "stdout",
     "output_type": "stream",
     "text": [
      "{urn:iso:std:iso:20022:tech:xsd:head.003.001.01}Hdr {}\n",
      "{urn:iso:std:iso:20022:tech:xsd:head.003.001.01}Pyld {}\n"
     ]
    }
   ],
   "source": [
    "connection = boto.connect_s3(aws_access_key_id=\" \",\n",
    "                            aws_secret_access_key=\" \")"
   ]
  },
  {
   "cell_type": "code",
   "execution_count": null,
   "id": "58519fbc",
   "metadata": {},
   "outputs": [],
   "source": [
    "# Get list of existing buckets\n",
    "for bucket in connection.get_all_buckets():\n",
    "    print(\"{name}\\t{created}\".format(\n",
    "    name = bucket.anem,\n",
    "    time = bucket.creation_date,\n",
    "    ))"
   ]
  },
  {
   "cell_type": "code",
   "execution_count": null,
   "id": "80cc6da5",
   "metadata": {},
   "outputs": [],
   "source": [
    "# Creating New bucket\n",
    "bucket_name = connection.create_bucket(\"XYZ\")"
   ]
  },
  {
   "cell_type": "markdown",
   "id": "a6345a21",
   "metadata": {},
   "source": [
    "### upload csv file to s3 bucket"
   ]
  },
  {
   "cell_type": "code",
   "execution_count": 8,
   "id": "a531d25f",
   "metadata": {},
   "outputs": [],
   "source": [
    "csv_file = pd.read_csv(\"xml_extract.csv\")"
   ]
  },
  {
   "cell_type": "code",
   "execution_count": 9,
   "id": "97b061ab",
   "metadata": {},
   "outputs": [],
   "source": [
    "s3 = boto3.client('s3',\n",
    "                 aws_access_key_id = \" \",\n",
    "                 aws_secret_access_key = \" \")"
   ]
  },
  {
   "cell_type": "code",
   "execution_count": null,
   "id": "4e82efeb",
   "metadata": {},
   "outputs": [],
   "source": [
    "csv_buf = StringIO()"
   ]
  },
  {
   "cell_type": "code",
   "execution_count": null,
   "id": "ab408a9b",
   "metadata": {},
   "outputs": [],
   "source": [
    "csv_file.to_csv(csv_buf, header=True, index=False)"
   ]
  }
 ],
 "metadata": {
  "kernelspec": {
   "display_name": "Python 3 (ipykernel)",
   "language": "python",
   "name": "python3"
  },
  "language_info": {
   "codemirror_mode": {
    "name": "ipython",
    "version": 3
   },
   "file_extension": ".py",
   "mimetype": "text/x-python",
   "name": "python",
   "nbconvert_exporter": "python",
   "pygments_lexer": "ipython3",
   "version": "3.9.7"
  }
 },
 "nbformat": 4,
 "nbformat_minor": 5
}
